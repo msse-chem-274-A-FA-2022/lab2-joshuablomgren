{
 "cells": [
  {
   "cell_type": "markdown",
   "metadata": {},
   "source": [
    "# Running Molecular Dynamics Simulations in OpenMM\n",
    "\n",
    "## Overview\n",
    "**Molecular Dynamics Simulation**: simulation of molecules through time via calculations of forces on atoms and their positions based on those forces. The output is a trajectory."
   ]
  },
  {
   "cell_type": "markdown",
   "metadata": {},
   "source": [
    "## Steps for running a simulation\n",
    "1. **Initialization** -- setting up imports, variables, and other system parameters to prepare for the simulation\n",
    "2. **Minimization** -- calculating the energies of moving molecules slightly to obtain a local \"minimum\" in energy and eliminate “bad” interatomic contacts\n",
    "3. **Equilibration** -- a brief MD simulation that prepares our system to our target temperature and desired equilibrium values\n",
    "4. **Production** -- run the equilibration\n",
    "5. **Analysis** -- after you have collected your data from the production run, you must analyze the trajectory to draw conclusions"
   ]
  },
  {
   "cell_type": "markdown",
   "metadata": {},
   "source": [
    "## Our First Simulations\n",
    "We will now use [OpenMM](https://openmm.org/documentation) to do a molecular dynamics simulation of the ethane and butane molecules we prepared. It’s important to note at this point that molecular dynamics simulations can be performed using a number of softwares. However, we will be running a simulation with a program called OpenMM. OpenMM has the advantage of being scriptable with Python."
   ]
  },
  {
   "cell_type": "markdown",
   "metadata": {},
   "source": [
    "---"
   ]
  },
  {
   "cell_type": "markdown",
   "metadata": {},
   "source": [
    "### Initialization\n",
    "Once you have OpenMM, we can use it to simulate our molecules. Start in your notebook with imports. Here are the python libraries you will need to run simulations with OpenMM."
   ]
  },
  {
   "cell_type": "code",
   "execution_count": 1,
   "metadata": {},
   "outputs": [],
   "source": [
    "import openmm as mm\n",
    "from openmm import app, unit"
   ]
  },
  {
   "cell_type": "markdown",
   "metadata": {},
   "source": [
    "First, we need to read in our structure and our force field. We have to tell the simulation our initial coordinates and the force field we will use. To do this, we use the PDB file we have and the force field file we prepared."
   ]
  },
  {
   "cell_type": "code",
   "execution_count": 2,
   "metadata": {},
   "outputs": [],
   "source": [
    "pdb = app.PDBFile('data/ethane.pdb')\n",
    "forcefield = app.ForceField('data/ethane.gaff2.xml')"
   ]
  },
  {
   "cell_type": "markdown",
   "metadata": {},
   "source": [
    "#### QUESTION\n",
    "What are we doing with these two commands above?\n",
    "*(Hint: let's check out some [documentation](http://docs.openmm.org/latest/userguide/application/02_running_sims.html))*\n",
    "\n",
    "#### RESPONSE\n",
    "The first command creates a PDBfile object named \"pdb\" by loading in a pdb file(pdb meaning \"Program Database\"). The PDBfile contains molecular topology (connectivity of the atoms) and atom positions for ethane.\n",
    "\n",
    "The second command creates a Forcefield object named \"forcefield\" using the forcefield data from ethane. "
   ]
  },
  {
   "cell_type": "markdown",
   "metadata": {},
   "source": [
    "#### QUESTION\n",
    "What lies in the contents of the XML file being read in `forcefield`?\n",
    "\n",
    "#### RESPONSE\n",
    "The XML file is the forcefield file which contains all the parameters that describe ethane and are needed to calculate the forcefield. It contains the atoms in ethane, the different bonds, bond forces, angle forces, etc. "
   ]
  },
  {
   "cell_type": "markdown",
   "metadata": {},
   "source": [
    "Next, we set up the system for our MD simulation. With the following command, we use the `pdb` variable to create a system. The other arguments to the function say that we are not using a cut-off and that we want to constrain bonds with hydrogens (this allows us to use a larger timestep)."
   ]
  },
  {
   "cell_type": "code",
   "execution_count": 3,
   "metadata": {},
   "outputs": [],
   "source": [
    "system = forcefield.createSystem(pdb.topology, nonbondedMethod=app.NoCutoff, constraints=app.HBonds)"
   ]
  },
  {
   "cell_type": "markdown",
   "metadata": {},
   "source": [
    "Our simulation will be in vacuum at a temperature of 298.15 K. The Langevin integrator is what is called a stochastic integrator. This means that it mimics jostling of air or solvent through random forces. We are using a 5.0 picosecond coupling constant, which is something which controls how often the integrator adds jostling motions."
   ]
  },
  {
   "cell_type": "code",
   "execution_count": 4,
   "metadata": {},
   "outputs": [],
   "source": [
    "integrator = mm.LangevinIntegrator(298.15*unit.kelvin, 5.0/unit.picoseconds, 2.0*unit.femtoseconds)\n",
    "integrator.setConstraintTolerance(1e-5)"
   ]
  },
  {
   "cell_type": "markdown",
   "metadata": {},
   "source": [
    "#### QUESTION\n",
    "What is the `integrator` applying to our simulation?\n",
    "\n",
    "#### RESPONSE\n",
    "The `integrator` gives three new parameters: temperature, friction coefficient, and step size and uses this information to calculate Langevin dynamics which models the dynamics of a molecular system and how the system changes over time due to the forces within the system. "
   ]
  },
  {
   "cell_type": "markdown",
   "metadata": {},
   "source": [
    "Finally, we initialize the simulation by adding all of the pieces we have prepared:"
   ]
  },
  {
   "cell_type": "code",
   "execution_count": 6,
   "metadata": {},
   "outputs": [],
   "source": [
    "platform = mm.Platform.getPlatformByName('Reference')\n",
    "simulation = app.Simulation(pdb.topology, system, integrator, platform) # ENTER THE THREE PIECES OF OUR SIMULATION HERE (hmm... I wonder where I can find this)\n",
    "simulation.context.setPositions(pdb.positions)"
   ]
  },
  {
   "cell_type": "markdown",
   "metadata": {},
   "source": [
    "---"
   ]
  },
  {
   "cell_type": "markdown",
   "metadata": {},
   "source": [
    "### Minimization\n",
    "Now, we start calculating energies. First we do an energy minimization. We start in this code block by printing the energy before minimization, doing 100 steps of an energy minimization, then printing the new energy. You should see that the energy decreases:"
   ]
  },
  {
   "cell_type": "code",
   "execution_count": 7,
   "metadata": {},
   "outputs": [
    {
     "name": "stdout",
     "output_type": "stream",
     "text": [
      "Minimizing...\n",
      "Potential energy before minimization is 4.467818271065182 kJ/mol\n",
      "Potential energy after minimization is 4.389967724953268 kJ/mol\n"
     ]
    }
   ],
   "source": [
    "print('Minimizing...')\n",
    "\n",
    "st = simulation.context.getState(getPositions=True,getEnergy=True)\n",
    "print(F\"Potential energy before minimization is {st.getPotentialEnergy()}\")\n",
    "\n",
    "simulation.minimizeEnergy(maxIterations=100)\n",
    "\n",
    "st = simulation.context.getState(getPositions=True,getEnergy=True)\n",
    "print(F\"Potential energy after minimization is {st.getPotentialEnergy()}\")"
   ]
  },
  {
   "cell_type": "markdown",
   "metadata": {},
   "source": [
    "You can’t see it from this code, but the atom positions have changed slightly to cause this change in energy."
   ]
  },
  {
   "cell_type": "markdown",
   "metadata": {},
   "source": [
    "#### QUESTION\n",
    "What is an energy minimization? Why do we want to perform a local energy minimization at the start of our simulation?\n",
    "\n",
    "#### RESPONSE\n",
    "Energy minimization involves pre-optimizing the simulation by making the simulation find a set of coordinates that are more likely for the simulation to start at since the initial configuration could potentially lead to large forces that are unrealistic. Doing this at the start of our simulation initilializes the simulation to prevent running the simulation on a system that has high initial potential energy due to large forces caused by the system not being in an optimized configuration. "
   ]
  },
  {
   "cell_type": "markdown",
   "metadata": {},
   "source": [
    "---"
   ]
  },
  {
   "cell_type": "markdown",
   "metadata": {},
   "source": [
    "### Equilibration\n",
    "Next, we run an equilibration. The purpose of this equilibration is to get our system to our target temperature and to get the system equilibrated and ready for our production run."
   ]
  },
  {
   "cell_type": "code",
   "execution_count": 8,
   "metadata": {},
   "outputs": [
    {
     "name": "stdout",
     "output_type": "stream",
     "text": [
      "Equilibrating...\n",
      "#\"Step\",\"Potential Energy (kJ/mole)\",\"Temperature (K)\"\n",
      "100,18.346780901170636,323.70042049019185\n",
      "200,30.533921725075373,239.46753810987283\n",
      "300,9.8694709379224,335.6649258844009\n",
      "400,24.430864205551572,225.74901582203552\n",
      "500,16.247195886561627,426.5648042033934\n",
      "600,21.31729887695703,169.42479840530194\n",
      "700,17.766113643147197,253.41802764531207\n",
      "800,13.924173178322796,413.5681672459327\n",
      "900,24.56669903072636,367.478423573629\n",
      "1000,20.554418041413328,297.72120029418045\n",
      "1100,14.641798919762579,226.92753420544787\n",
      "1200,18.555603021489627,293.4991988860074\n",
      "1300,28.563409720499628,519.2198919788062\n",
      "1400,32.24911922791217,140.84884163578192\n",
      "1500,25.830298665231922,237.93469615167706\n",
      "1600,17.83071909054736,253.84332693883198\n",
      "1700,19.509282200149702,265.8173509735589\n",
      "1800,16.51643132282003,258.00499315835776\n",
      "1900,12.542754516930021,328.2747476732345\n",
      "2000,13.145721472264018,202.00171214531628\n",
      "2100,16.13487944612926,169.70715488956895\n",
      "2200,20.892368618353238,338.9502968018403\n",
      "2300,13.182115403143705,403.16152655633766\n",
      "2400,20.387208198566817,254.99798309370735\n",
      "2500,20.43663299724799,136.71059450733608\n"
     ]
    }
   ],
   "source": [
    "from sys import stdout\n",
    "\n",
    "print('Equilibrating...')\n",
    "\n",
    "simulation.reporters.append(app.StateDataReporter(stdout, 100, step=True, \n",
    "    potentialEnergy=True, temperature=True, separator=','))\n",
    "simulation.context.setVelocitiesToTemperature(150.0*unit.kelvin)\n",
    "simulation.step(2500)"
   ]
  },
  {
   "cell_type": "markdown",
   "metadata": {},
   "source": [
    "The first command in this section sets up what information OpenMM will report to us as the simulation runs. We are asking for the potential energy, and temperature every 100 timesteps. By putting `stdout` as the first argument, we are telling the program to just print the information. Note that `stdout` comes from the built in Python module `sys`. If we wanted the information in a file instead, you would put the file name.\n",
    "\n",
    "The second command sets the initial velocities of the system to a temperature equivalent of 150 K. Then, we integrate for 2,500 steps to allow the system to equilibrate."
   ]
  },
  {
   "cell_type": "markdown",
   "metadata": {},
   "source": [
    "---"
   ]
  },
  {
   "cell_type": "markdown",
   "metadata": {},
   "source": [
    "### Production\n",
    "This next block of code is a longer block of simulation called the ‘production run’. We’re also added a timer to this code so we can see how long it took our simulation to run."
   ]
  },
  {
   "cell_type": "code",
   "execution_count": 9,
   "metadata": {},
   "outputs": [
    {
     "name": "stdout",
     "output_type": "stream",
     "text": [
      "Running Production...\n",
      "#\"Step\",\"Time (ps)\",\"Potential Energy (kJ/mole)\",\"Temperature (K)\",\"Speed (ns/day)\"\n",
      "250000,500.0000000016593,25.486351261529173,259.90848491926334,0\n",
      "500000,999.9999999901769,15.868381002546368,285.8730880896211,2.58e+04\n",
      "750000,1499.9999999783536,16.8768227699909,386.03478663524925,2.58e+04\n",
      "1000000,1999.9999999665301,22.317273463249,295.8914079867878,2.57e+04\n",
      "1250000,2499.9999999547067,20.62921520793406,307.49321106347173,2.57e+04\n",
      "1500000,2999.9999999428833,18.713941821272037,390.3345871259035,2.58e+04\n",
      "1750000,3499.99999993106,23.84542367440926,272.14020713000343,2.57e+04\n",
      "2000000,3999.9999999192364,18.26915444910917,227.75089960966287,2.57e+04\n",
      "2250000,4499.9999999992715,21.82396836742528,420.87461443121964,2.57e+04\n",
      "2500000,5000.000000101135,23.50126163101833,125.96242231122787,2.57e+04\n",
      "2750000,5500.000000202998,20.265804902007588,324.722608873218,2.57e+04\n",
      "3000000,6000.000000304862,15.915506760281904,401.5719842833798,2.57e+04\n",
      "3250000,6500.000000406725,13.93891691868761,274.4154673550624,2.58e+04\n",
      "3500000,7000.0000005085885,16.539765735542815,374.6455076518945,2.58e+04\n",
      "3750000,7500.000000610452,33.18189877212541,225.63360075978113,2.58e+04\n",
      "4000000,8000.000000712315,21.348914000759894,225.48501958839174,2.59e+04\n",
      "4250000,8500.000000814178,13.692688139841671,246.30691554116348,2.59e+04\n",
      "4500000,9000.000000916041,30.4210714478326,426.89153593297857,2.59e+04\n",
      "4750000,9500.000001017905,27.800502439132654,155.76391850734956,2.59e+04\n",
      "5000000,10000.000001119768,14.859003255803705,264.12104184770146,2.59e+04\n",
      "5250000,10500.000001221631,22.71820295546646,358.1683163458986,2.59e+04\n",
      "5500000,11000.000001323495,22.08893503737503,313.0992973864809,2.59e+04\n",
      "5750000,11500.000001425358,27.989172022840116,232.0305664074826,2.59e+04\n",
      "6000000,12000.000001527222,21.575447473375835,127.96769238003056,2.59e+04\n",
      "6250000,12500.000001629085,33.50363760648582,550.6461963120657,2.59e+04\n",
      "6500000,13000.000001730948,15.985714984887734,251.33761259873305,2.59e+04\n",
      "6750000,13500.000001832812,31.088227765201275,208.7903738658367,2.59e+04\n",
      "7000000,14000.000001934675,23.56208864355892,440.4797023501107,2.59e+04\n",
      "7250000,14500.000002036539,19.529614264855844,658.8252057579226,2.59e+04\n",
      "7500000,15000.000002138402,17.82486466449796,316.11279677641477,2.59e+04\n",
      "7750000,15500.000002240266,16.162204765256384,386.69554889596446,2.59e+04\n",
      "8000000,16000.000002342129,20.876161013816457,560.0306898256938,2.59e+04\n",
      "8250000,16500.00000244399,33.4636358043297,293.08483756454467,2.59e+04\n",
      "8500000,17000.000002545854,23.964019719233843,418.64069946876134,2.59e+04\n",
      "8750000,17500.000002647717,16.512865725544668,114.71779850014755,2.59e+04\n",
      "9000000,18000.00000274958,18.006629880888937,407.3717004966929,2.59e+04\n",
      "9250000,18500.000002851444,36.43264896408736,257.1379531405714,2.59e+04\n",
      "9500000,19000.000002953308,12.338934179146179,364.4906255414842,2.59e+04\n",
      "9750000,19500.00000305517,23.77813493167693,267.64780573315886,2.59e+04\n",
      "10000000,20000.000003157034,18.28885322794593,333.05741249042694,2.59e+04\n",
      "Done!\n",
      "Time required for simulation: 66.77258086204529 seconds\n"
     ]
    }
   ],
   "source": [
    "import time as time\n",
    "\n",
    "print('Running Production...')\n",
    "\n",
    "# Begin timer\n",
    "tinit=time.time()\n",
    "\n",
    "# Clear simulation reporters\n",
    "simulation.reporters.clear()\n",
    "\n",
    "# Reinitialize simulation reporters. We do this because we want different information printed from the production run than the equilibration run.\n",
    "# output basic simulation information below every 250000 steps - (which is equal to 2 fs(250,000) = 500,000 fs = 500 ps)\n",
    "simulation.reporters.append(app.StateDataReporter(stdout, 250000, \n",
    "    step=True, time=True, potentialEnergy=True, temperature=True, \n",
    "    speed=True, separator=','))\n",
    "\n",
    "# write out a trajectory (i.e., coordinates vs. time) to a DCD\n",
    "# file every 100 steps - 0.2 ps\n",
    "simulation.reporters.append(app.DCDReporter('ethane_sim.dcd', 100))\n",
    "\n",
    "# run the simulation for 1.0x10^7 steps - 20 ns\n",
    "simulation.step(10000000)\n",
    "\n",
    "# End timer\n",
    "tfinal=time.time()\n",
    "print('Done!')\n",
    "print('Time required for simulation:', tfinal-tinit, 'seconds')"
   ]
  },
  {
   "cell_type": "markdown",
   "metadata": {},
   "source": [
    "After executing this cell in your notebook, you should see an output which gives you the step number, simulation time, potential energy, temperature, and “speed” for steps in the simulation. The spacing of theses is set in the `simulation.reporters` step where we indicated we wanted information printed every 250,000 timesteps.\n",
    "\n",
    "The “speed” is reported in “ns/day” or “nanoseconds/day”. This is a commonly used unit to report how quickly simulations run. It tells you how much simulation time in nanoseconds would pass for 24 hours of computation time. For example, if a simulation is running at 2 ns/day, enough timesteps would be calculated in one day to make 2 nanoseconds of simulation time. If we were using our 2 fs timestep, this would mean that the computer calculated 1,000,000 timesteps over 24 hours."
   ]
  },
  {
   "cell_type": "markdown",
   "metadata": {},
   "source": [
    "---"
   ]
  },
  {
   "cell_type": "markdown",
   "metadata": {},
   "source": [
    "## Your Turn\n",
    "Make a copy of the code you wrote to run your ethane simulation and modify it to:\n",
    "1. Read in the files `butane.gaff2.xml` and `butane.pdb`\n",
    "2. Carry out a 10 ps MD simulation to bring the butane molecule to an equilibrium temperature of 298 K in which output is printed every 0.5 ps (Leave the minimization portion beforehand unchanged.)\n",
    "3. Carry out a 40 ns MD simulation at 298 K in which output is printed every 1 ns and structures are (still) saved every 0.2 ps into a file called `butane_sim.dcd`."
   ]
  },
  {
   "cell_type": "code",
   "execution_count": null,
   "metadata": {},
   "outputs": [],
   "source": [
    "### your code here!!!"
   ]
  },
  {
   "cell_type": "markdown",
   "metadata": {},
   "source": [
    "---"
   ]
  },
  {
   "cell_type": "markdown",
   "metadata": {},
   "source": [
    "## Analysis\n",
    "Now that we’ve performed our computer experiment, it is time to analyze the data we have collected. The main type of data you have collected through this simulation is information on atom positions, or the system trajectory.\n",
    "\n",
    "As part of our production simulation, we set up a reporter to record atomic positions. The code below shows that code from your previous script, **you do not need to execute it.**"
   ]
  },
  {
   "cell_type": "code",
   "execution_count": null,
   "metadata": {},
   "outputs": [],
   "source": [
    "simulation.reporters.append(app.DCDReporter('ethane_sim.dcd', 100))"
   ]
  },
  {
   "cell_type": "markdown",
   "metadata": {},
   "source": [
    "This reporter saved the atomic positions for us every 100 timesteps in a file called `ethane_sim.dcd`. The DCD file format is a binary file (instead of being a text file), so you cannot open it and look at it. However, we will be using certain libraries to analyze and view the file’s contents. If you’ve run your simulation, you should have the file `ethane_sim.dcd` in the same folder as your Jupyter notebook.\n",
    "\n",
    "First, we will need to make sure we have a few more Python libraries installed which can help us with analysis. We will use a library called **nglview** to visualize the trajectory, and a library called **MDTraj** to analyze the trajectory. Before opening a new notebook for analysis, you may need to install **nglview** and **MDTraj**.\n",
    "\n",
    "Type the following in your *terminal* to install **nglview** and **MDTraj**:"
   ]
  },
  {
   "cell_type": "code",
   "execution_count": null,
   "metadata": {},
   "outputs": [],
   "source": [
    "$ conda install -c conda-forge mdtraj nglview"
   ]
  },
  {
   "cell_type": "code",
   "execution_count": null,
   "metadata": {},
   "outputs": [],
   "source": [
    "import mdtraj as md\n",
    "\n",
    "traj = md.load('ethane_sim.dcd', top='data/ethane.pdb')"
   ]
  },
  {
   "cell_type": "markdown",
   "metadata": {},
   "source": [
    "The command above reads all of the atomic positions from `ethane_sim.dcd` and keeps track of atom connectivity (topology) which was given in the PDB file. Next, visualize the trajectory using nglview. Nglview has a special function `show_mdtraj` that we can use with our trajectory because it was in a specific format from the MDTraj library."
   ]
  },
  {
   "cell_type": "code",
   "execution_count": null,
   "metadata": {},
   "outputs": [],
   "source": [
    "import nglview as ngl\n",
    "\n",
    "visualize = ngl.show_mdtraj(traj)\n",
    "visualize"
   ]
  },
  {
   "cell_type": "markdown",
   "metadata": {},
   "source": [
    "This should show you something that looks sort of like a movie of your ethane molecule. These are the atomic positions calculated by OpenMM during the molecular dynamics run. We can now analyze the positions to find out some things about our molecule.\n",
    "\n",
    "We will use another OpenMM command to pull out our bonds and atoms for analysis"
   ]
  },
  {
   "cell_type": "code",
   "execution_count": null,
   "metadata": {},
   "outputs": [],
   "source": [
    "atoms, bonds = traj.topology.to_dataframe()\n",
    "atoms"
   ]
  },
  {
   "cell_type": "markdown",
   "metadata": {},
   "source": [
    "#### QUESTION\n",
    "Describe the table that `atoms` produced.\n",
    "\n",
    "#### RESPONSE\n",
    "Your response here :D"
   ]
  },
  {
   "cell_type": "markdown",
   "metadata": {},
   "source": [
    "### Analyzing the C-C bond length\n",
    "Let’s look at what C-C bond lengths our ethane molecule had during the simulation. Before we can measure the bond lengths, we have to decide which atoms from our molecule define the bond angle. You should see a table output from running `atoms`.\n",
    "\n",
    "We have to pick the atom indices for the C-C bond. An atom’s index is the left-most value in the table above. For our torsion, we’ll measure `C1-C2` the indices for these are `0` and `4`. We use the function `compute_distances` in the MDTraj library to measure the distance between these atoms."
   ]
  },
  {
   "cell_type": "code",
   "execution_count": null,
   "metadata": {},
   "outputs": [],
   "source": [
    "bond_indices = [0, 4] # atoms to define the bond length\n",
    "bond_length = md.compute_distances(traj, [bond_indices])"
   ]
  },
  {
   "cell_type": "markdown",
   "metadata": {},
   "source": [
    "We now have the measurement for this torsion angle in radians for each recorded timestep of the trajectory saved in the array `bond_length`. One way we can examine this data is by plotting it as a histogram using the Python library `matplotlib`."
   ]
  },
  {
   "cell_type": "code",
   "execution_count": null,
   "metadata": {},
   "outputs": [],
   "source": [
    "import matplotlib.pyplot as plt\n",
    "\n",
    "bondcounts, binedges, otherstuff = plt.hist(bond_length, bins=120)\n",
    "plt.title('C-C bond length histogram')\n",
    "plt.xlabel('Bond length (nm)')\n",
    "plt.ylabel('Counts')\n",
    "plt.show()"
   ]
  },
  {
   "cell_type": "markdown",
   "metadata": {},
   "source": [
    "## Your Turn\n",
    "A torsion is made up of four atoms which are bonded to each other. Analyze the torsion angle associated with the atoms `H11-C1-C2-H21` for your trajectory. Instead of using the function `compute_distance`, use `compute_dihedrals`. Create a histogram plot of the torsion angles.\n",
    "\n",
    "First, we need to pick the atom indices of our torsion angle and use the `compute_dihedrals` function to calculate the dihedrals."
   ]
  },
  {
   "cell_type": "code",
   "execution_count": null,
   "metadata": {},
   "outputs": [],
   "source": [
    "phi_indices = [] # add atoms to define the torsion angle\n",
    "phi = # use the compute_dihedrals function\n",
    "\n",
    "print(phi)"
   ]
  },
  {
   "cell_type": "markdown",
   "metadata": {},
   "source": [
    "We now have the measurement for this torsion angle in radians for each recorded timestep of the trajectory.\n",
    "\n",
    "Next, we can examine this data by plotting it as a histogram using the Python library `matplotlib`."
   ]
  },
  {
   "cell_type": "code",
   "execution_count": null,
   "metadata": {},
   "outputs": [],
   "source": [
    "import matplotlib.pyplot as plt\n",
    "\n",
    "# create a histogram with 90 bins"
   ]
  },
  {
   "cell_type": "markdown",
   "metadata": {},
   "source": [
    "Credit for this exercise goes to [MolSSI](https://education.molssi.org/mm-tools/02-md-alkanes/index.html)."
   ]
  }
 ],
 "metadata": {
  "kernelspec": {
   "display_name": "Python 3 (ipykernel)",
   "language": "python",
   "name": "python3"
  },
  "language_info": {
   "codemirror_mode": {
    "name": "ipython",
    "version": 3
   },
   "file_extension": ".py",
   "mimetype": "text/x-python",
   "name": "python",
   "nbconvert_exporter": "python",
   "pygments_lexer": "ipython3",
   "version": "3.9.13"
  },
  "vscode": {
   "interpreter": {
    "hash": "31f2aee4e71d21fbe5cf8b01ff0e069b9275f58929596ceb00d14d90e3e16cd6"
   }
  }
 },
 "nbformat": 4,
 "nbformat_minor": 2
}
